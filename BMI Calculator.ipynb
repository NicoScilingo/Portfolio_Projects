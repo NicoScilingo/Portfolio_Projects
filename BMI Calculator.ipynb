{
 "cells": [
  {
   "cell_type": "markdown",
   "id": "fd5becff-15a4-4798-bf2f-0e98d781de3f",
   "metadata": {},
   "source": [
    "# Calculadora de Indice de Masa Corporal"
   ]
  },
  {
   "cell_type": "code",
   "execution_count": 82,
   "id": "eaacb2d5-8d18-4eed-acd5-2c3567d3a17f",
   "metadata": {},
   "outputs": [
    {
     "name": "stdin",
     "output_type": "stream",
     "text": [
      "Ingresa tu nombre:  Nico\n",
      "Ingresa tu peso en kilogramos: 79.2\n",
      "Ingresa tu altura en metros: 185\n"
     ]
    },
    {
     "name": "stdout",
     "output_type": "stream",
     "text": [
      "Nico, estas bien flaco, toca bulk.\n"
     ]
    }
   ],
   "source": [
    "name = input('Ingresa tu nombre: ')\n",
    "\n",
    "weight = float(input(\"Ingresa tu peso en kilogramos:\").replace(',','.'))\n",
    "\n",
    "\n",
    "height = float(input(\"Ingresa tu altura en metros:\").replace(',','.'))\n",
    "\n",
    "BMI = (weight) / (height * height)\n",
    "\n",
    "if BMI > 0:\n",
    "    if(BMI < 18.5):\n",
    "        print(name + ', estas bien flaco, toca bulk.')\n",
    "    elif(BMI <= 24.9):\n",
    "        print(name + ', estas normalito (flaco, sigue bulk).')\n",
    "    elif(BMI < 29.9):\n",
    "        print(name + ', estas pesado, se acerca el cut.')\n",
    "    elif(BMI < 34.9):\n",
    "        print(name + ', cut urgente.')\n",
    "    elif(BMI < 39.9):\n",
    "        print(name + ', sos Ibai')\n",
    "    else:\n",
    "        print(name + ', sos Peter la Anguila.')\n",
    "else:\n",
    "    print('Enter valid input')"
   ]
  },
  {
   "cell_type": "code",
   "execution_count": null,
   "id": "6ef28ac5-d01a-4e78-83e4-a6bca1d9678e",
   "metadata": {},
   "outputs": [],
   "source": []
  },
  {
   "cell_type": "code",
   "execution_count": null,
   "id": "824cedc0-e365-4ec6-a37f-04f67d8cf8ec",
   "metadata": {},
   "outputs": [],
   "source": []
  },
  {
   "cell_type": "code",
   "execution_count": null,
   "id": "70525cdc-135b-48dc-a6b7-726b41099cb5",
   "metadata": {},
   "outputs": [],
   "source": []
  }
 ],
 "metadata": {
  "kernelspec": {
   "display_name": "Python 3 (ipykernel)",
   "language": "python",
   "name": "python3"
  },
  "language_info": {
   "codemirror_mode": {
    "name": "ipython",
    "version": 3
   },
   "file_extension": ".py",
   "mimetype": "text/x-python",
   "name": "python",
   "nbconvert_exporter": "python",
   "pygments_lexer": "ipython3",
   "version": "3.12.4"
  }
 },
 "nbformat": 4,
 "nbformat_minor": 5
}
