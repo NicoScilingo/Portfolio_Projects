{
 "cells": [
  {
   "cell_type": "markdown",
   "id": "653b4e59-b17e-455d-812c-553c8797aa38",
   "metadata": {},
   "source": [
    "# Amazon Web Scraping Project"
   ]
  },
  {
   "cell_type": "code",
   "execution_count": 6,
   "id": "af76f282-ba25-4984-93f8-5bf0f25129d3",
   "metadata": {},
   "outputs": [],
   "source": [
    "# import libraries\n",
    "\n",
    "from bs4 import BeautifulSoup\n",
    "import requests\n",
    "import time\n",
    "import datetime\n",
    "\n",
    "import smtplib"
   ]
  },
  {
   "cell_type": "code",
   "execution_count": 179,
   "id": "bb79a7a4-f363-4b6c-8286-8a83a82a95e7",
   "metadata": {},
   "outputs": [
    {
     "name": "stdout",
     "output_type": "stream",
     "text": [
      "\n",
      "                    Funny Got Data MIS Data Systems Business Analyst Camiseta, Negro -\n",
      "                   \n",
      "\n",
      "\n",
      "\n",
      "\n",
      "              'Funny Got Data MIS Data Systems Business Analyst' es una pastilla divertida perfecta para personas interesadas en MIS y sistemas de datos que trabajan en TI o consultoría de datos! ¡A cualquier analista de negocios o consultor que trabaje con big data le encantará!\n",
      "             \n",
      "\n",
      "\n"
     ]
    }
   ],
   "source": [
    "# Connect to the website\n",
    "\n",
    "URL  = 'https://www.amazon.com/-/es/Funny-Systems-Business-Analyst-Camiseta/dp/B07FNW9FGJ/ref=sr_1_1?crid=1I7LC301BHB9T&dib=eyJ2IjoiMSJ9.WiKhGOLdBAacALLGC9ayNAa1tOAxb38gZ786QsmQnMJMilZwtwZp81JGkxHFIg-J6i7-I7v-9lRvocuKSnecEk8Z-N2Augx56wtlSCIAUD1QMpIsdYp0QcSB7PLNrZGRvU_4mk7Am_Invsan2QPH4y5D2mHg-LWvayOVX3LCUaAjEWqW2cBkKvrkl_gp2898RfSnS7nja5xKoJUg4e9HSnfc0LWnn4reL6OqLTOnWFGzE1cTDLwdOG_EFjmpRuzr3yI4whYl9KRJgHMfPnYKSYWmhyC_tn-6XayfBmp2GUo.gnC_rNtADgIOOgJUQwdSpWdCBZnZtdzyNaQjsV4jO1Y&dib_tag=se&keywords=data%2Banalyst%2Bshirt&qid=1727280380&sprefix=%2Caps%2C246&sr=8-1'\n",
    "\n",
    "headers = {\"User-Agent\": \"Mozilla/5.0 (Windows NT 10.0; Win64; x64) AppleWebKit/537.36 (KHTML, like Gecko) Chrome/128.0.0.0 Safari/537.36\", \"Accept-Encoding\":\"gzip, deflate\", \"Accept\":\"text/html,application/xhtml+xml,application/xml;q=0.9,*/*;q=0.8\", \"DNT\":\"1\",\"Connection\":\"close\", \"Upgrade-Insecure-Requests\":\"1\"}\n",
    "\n",
    "# took User Agent from here https://httpbin.org/get\n",
    "\n",
    "page = requests.get(URL, headers=headers)\n",
    "\n",
    "Soup1 = BeautifulSoup(page.content, \"html.parser\")\n",
    "\n",
    "Soup2 = BeautifulSoup(Soup1.prettify(), \"html.parser\")\n",
    "\n",
    "title = Soup2.find(id='productTitle').get_text()\n",
    "\n",
    "description = Soup2.find(id='productDescription').get_text()\n",
    "\n",
    "print(title)\n",
    "print(description)\n",
    "\n"
   ]
  },
  {
   "cell_type": "code",
   "execution_count": 180,
   "id": "6e21feec-1403-4504-bf7f-a3eb1453f634",
   "metadata": {},
   "outputs": [
    {
     "name": "stdout",
     "output_type": "stream",
     "text": [
      "Funny Got Data MIS Data Systems Business Analyst Camiseta, Negro -\n",
      " es una pastilla divertida perfecta para personas interesadas en MIS y sistemas de datos que trabajan en TI o consultoría de datos! ¡A cualquier analista de negocios o consultor que trabaje con big data le encantará!\n"
     ]
    }
   ],
   "source": [
    "description = description.strip()[50:]\n",
    "\n",
    "title = title.strip()\n",
    "\n",
    "print(title)\n",
    "print(description)"
   ]
  },
  {
   "cell_type": "code",
   "execution_count": 183,
   "id": "8abd26f6-b3a3-4621-8c2a-0b718dd3c7b4",
   "metadata": {},
   "outputs": [
    {
     "name": "stdout",
     "output_type": "stream",
     "text": [
      "2024-09-26\n"
     ]
    }
   ],
   "source": [
    "import datetime\n",
    "\n",
    "today = datetime.date.today()\n",
    "\n",
    "print(today)"
   ]
  },
  {
   "cell_type": "code",
   "execution_count": 185,
   "id": "b993fb3e-7a2d-41a0-ac8d-2a3025088fd3",
   "metadata": {},
   "outputs": [],
   "source": [
    "import csv\n",
    "\n",
    "header = ['Title', 'Description', 'Date']\n",
    "data = [title, description, today]\n",
    "\n",
    "# with open('Amazon_Web_ScraperDataset.csv', 'w', newline='', encoding='UTF8') as f:\n",
    "#    writer = csv.writer(f)\n",
    "#    writer.writerow(header)\n",
    "#    writer.writerow(data)\n",
    "\n",
    "# creating the CSV writer = csv.writer(f)\n",
    "# creating the headers writer.writerow(header)\n",
    "# inserting the data writer.writerow(data)"
   ]
  },
  {
   "cell_type": "code",
   "execution_count": 187,
   "id": "1087b3d2-dbe9-47cd-bdd2-afca5fd11c28",
   "metadata": {},
   "outputs": [
    {
     "name": "stdout",
     "output_type": "stream",
     "text": [
      "                                               Title  \\\n",
      "0  Funny Got Data MIS Data Systems Business Analy...   \n",
      "\n",
      "                                         Description        Date  \n",
      "0   es una pastilla divertida perfecta para perso...  2024-09-26  \n"
     ]
    }
   ],
   "source": [
    "import pandas as pd\n",
    "\n",
    "df = pd.read_csv(r'C:\\Users\\nico_\\Alex The Analyst Pandas Series\\Amazon_Web_ScraperDataset.csv')\n",
    "\n",
    "print(df)"
   ]
  },
  {
   "cell_type": "code",
   "execution_count": 166,
   "id": "78e2a53a-525e-43d8-bae5-5244dd65c814",
   "metadata": {},
   "outputs": [],
   "source": [
    "# Now we are appending data to the CSV\n",
    "\n",
    "with open('Amazon_Web_ScraperDataset.csv', 'a+', newline='', encoding='UTF8') as f:\n",
    "    writer = csv.writer(f)\n",
    "    writer.writerow(data)"
   ]
  },
  {
   "cell_type": "code",
   "execution_count": 189,
   "id": "9b90a9dc-9a88-4dac-a60b-a316b1aabbfb",
   "metadata": {},
   "outputs": [],
   "source": [
    "def check_desc():\n",
    "    URL  = 'https://www.amazon.com/-/es/Funny-Systems-Business-Analyst-Camiseta/dp/B07FNW9FGJ/ref=sr_1_1?crid=1I7LC301BHB9T&dib=eyJ2IjoiMSJ9.WiKhGOLdBAacALLGC9ayNAa1tOAxb38gZ786QsmQnMJMilZwtwZp81JGkxHFIg-J6i7-I7v-9lRvocuKSnecEk8Z-N2Augx56wtlSCIAUD1QMpIsdYp0QcSB7PLNrZGRvU_4mk7Am_Invsan2QPH4y5D2mHg-LWvayOVX3LCUaAjEWqW2cBkKvrkl_gp2898RfSnS7nja5xKoJUg4e9HSnfc0LWnn4reL6OqLTOnWFGzE1cTDLwdOG_EFjmpRuzr3yI4whYl9KRJgHMfPnYKSYWmhyC_tn-6XayfBmp2GUo.gnC_rNtADgIOOgJUQwdSpWdCBZnZtdzyNaQjsV4jO1Y&dib_tag=se&keywords=data%2Banalyst%2Bshirt&qid=1727280380&sprefix=%2Caps%2C246&sr=8-1'\n",
    "\n",
    "    headers = {\"User-Agent\": \"Mozilla/5.0 (Windows NT 10.0; Win64; x64) AppleWebKit/537.36 (KHTML, like Gecko) Chrome/128.0.0.0 Safari/537.36\", \"Accept-Encoding\":\"gzip, deflate\", \"Accept\":\"text/html,application/xhtml+xml,application/xml;q=0.9,*/*;q=0.8\", \"DNT\":\"1\",\"Connection\":\"close\", \"Upgrade-Insecure-Requests\":\"1\"}\n",
    "\n",
    "    page = requests.get(URL, headers=headers)\n",
    "\n",
    "    Soup1 = BeautifulSoup(page.content, \"html.parser\")\n",
    "\n",
    "    Soup2 = BeautifulSoup(Soup1.prettify(), \"html.parser\")\n",
    "\n",
    "    title = Soup2.find(id='productTitle').get_text().strip()\n",
    "\n",
    "    description = Soup2.find(id='productDescription').get_text().strip()[50:]\n",
    "\n",
    "    import datetime\n",
    "\n",
    "    today = datetime.date.today()\n",
    "\n",
    "    import csv\n",
    "\n",
    "    header = ['Title', 'Description', 'Date']\n",
    "    data = [title, description, today]\n",
    "\n",
    "    with open('Amazon_Web_ScraperDataset.csv', 'a+', newline='', encoding='UTF8') as f:\n",
    "        writer = csv.writer(f)\n",
    "        writer.writerow(data)"
   ]
  },
  {
   "cell_type": "code",
   "execution_count": 191,
   "id": "dc90b1e6-e0fb-41ee-bbb0-afb56dd1504b",
   "metadata": {},
   "outputs": [
    {
     "ename": "KeyboardInterrupt",
     "evalue": "",
     "output_type": "error",
     "traceback": [
      "\u001b[1;31m---------------------------------------------------------------------------\u001b[0m",
      "\u001b[1;31mKeyboardInterrupt\u001b[0m                         Traceback (most recent call last)",
      "Cell \u001b[1;32mIn[191], line 3\u001b[0m\n\u001b[0;32m      1\u001b[0m \u001b[38;5;28;01mwhile\u001b[39;00m(\u001b[38;5;28;01mTrue\u001b[39;00m):\n\u001b[0;32m      2\u001b[0m     check_desc()\n\u001b[1;32m----> 3\u001b[0m     time\u001b[38;5;241m.\u001b[39msleep(\u001b[38;5;241m20\u001b[39m)\n",
      "\u001b[1;31mKeyboardInterrupt\u001b[0m: "
     ]
    }
   ],
   "source": [
    "while(True):\n",
    "    check_desc()\n",
    "    time.sleep(20)"
   ]
  },
  {
   "cell_type": "code",
   "execution_count": 193,
   "id": "e0bd4833-1cb4-4360-8424-a3883083e185",
   "metadata": {},
   "outputs": [
    {
     "name": "stdout",
     "output_type": "stream",
     "text": [
      "                                               Title  \\\n",
      "0  Funny Got Data MIS Data Systems Business Analy...   \n",
      "1  Funny Got Data MIS Data Systems Business Analy...   \n",
      "2  Funny Got Data MIS Data Systems Business Analy...   \n",
      "3  Funny Got Data MIS Data Systems Business Analy...   \n",
      "4  Funny Got Data MIS Data Systems Business Analy...   \n",
      "5  Funny Got Data MIS Data Systems Business Analy...   \n",
      "6  Funny Got Data MIS Data Systems Business Analy...   \n",
      "\n",
      "                                         Description        Date  \n",
      "0   es una pastilla divertida perfecta para perso...  2024-09-26  \n",
      "1   es una pastilla divertida perfecta para perso...  2024-09-26  \n",
      "2   es una pastilla divertida perfecta para perso...  2024-09-26  \n",
      "3   es una pastilla divertida perfecta para perso...  2024-09-26  \n",
      "4   es una pastilla divertida perfecta para perso...  2024-09-26  \n",
      "5   es una pastilla divertida perfecta para perso...  2024-09-26  \n",
      "6   es una pastilla divertida perfecta para perso...  2024-09-26  \n"
     ]
    }
   ],
   "source": [
    "import pandas as pd\n",
    "\n",
    "df = pd.read_csv(r'C:\\Users\\nico_\\Alex The Analyst Pandas Series\\Amazon_Web_ScraperDataset.csv')\n",
    "\n",
    "print(df)"
   ]
  },
  {
   "cell_type": "code",
   "execution_count": null,
   "id": "1be8bba6-b332-4873-b761-29a24e982e42",
   "metadata": {},
   "outputs": [],
   "source": []
  },
  {
   "cell_type": "code",
   "execution_count": null,
   "id": "15eeece2-9f10-4957-b851-6652c356c831",
   "metadata": {},
   "outputs": [],
   "source": []
  }
 ],
 "metadata": {
  "kernelspec": {
   "display_name": "Python 3 (ipykernel)",
   "language": "python",
   "name": "python3"
  },
  "language_info": {
   "codemirror_mode": {
    "name": "ipython",
    "version": 3
   },
   "file_extension": ".py",
   "mimetype": "text/x-python",
   "name": "python",
   "nbconvert_exporter": "python",
   "pygments_lexer": "ipython3",
   "version": "3.12.4"
  }
 },
 "nbformat": 4,
 "nbformat_minor": 5
}
